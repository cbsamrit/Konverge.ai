{
 "cells": [
  {
   "attachments": {},
   "cell_type": "markdown",
   "metadata": {},
   "source": [
    "Decorator"
   ]
  },
  {
   "cell_type": "code",
   "execution_count": 6,
   "metadata": {},
   "outputs": [
    {
     "name": "stdout",
     "output_type": "stream",
     "text": [
      "5\n",
      "7\n"
     ]
    }
   ],
   "source": [
    "def outer(fun):\n",
    "    def inner(*k,**kw):\n",
    "      k=fun(*k,**kw) \n",
    "      return k\n",
    "    return inner\n",
    "\n",
    "\n",
    "# def add(a,b):\n",
    "#     return a+b\n",
    "\n",
    "# k=outer(add)\n",
    "# l=k(a=2,b=3)\n",
    "# m=k(2,5)\n",
    "# print(l,m)\n",
    "\n",
    "\n",
    "@outer\n",
    "def add(a,b):   \n",
    "   return a+b\n",
    "\n",
    "\n",
    "print(add(a=2,b=3))\n",
    "print(add(2,5))\n",
    "\n",
    "\n"
   ]
  },
  {
   "attachments": {},
   "cell_type": "markdown",
   "metadata": {},
   "source": [
    "Decorator with value pass"
   ]
  },
  {
   "cell_type": "code",
   "execution_count": 15,
   "metadata": {},
   "outputs": [
    {
     "name": "stdout",
     "output_type": "stream",
     "text": [
      "Value of temp is 56\n",
      "5\n",
      "Value of temp is 56\n",
      "7\n"
     ]
    }
   ],
   "source": [
    "def outer1(temp) :\n",
    " def outer(fun):\n",
    "    def inner(*k,**kw):\n",
    "      print(f\"Value of temp is {temp}\")\n",
    "      k=fun(*k,**kw) \n",
    "      return k\n",
    "    return inner\n",
    " return outer\n",
    "\n",
    "\n",
    "\n",
    "@outer1(56)\n",
    "def add(a,b):   \n",
    "   return a+b\n",
    "\n",
    "\n",
    "print(add(a=2,b=3))\n",
    "print(add(2,5))\n",
    "\n",
    "\n"
   ]
  },
  {
   "attachments": {},
   "cell_type": "markdown",
   "metadata": {},
   "source": [
    "two or more decorator"
   ]
  }
 ],
 "metadata": {
  "kernelspec": {
   "display_name": "Python 3",
   "language": "python",
   "name": "python3"
  },
  "language_info": {
   "codemirror_mode": {
    "name": "ipython",
    "version": 3
   },
   "file_extension": ".py",
   "mimetype": "text/x-python",
   "name": "python",
   "nbconvert_exporter": "python",
   "pygments_lexer": "ipython3",
   "version": "3.10.4"
  },
  "orig_nbformat": 4
 },
 "nbformat": 4,
 "nbformat_minor": 2
}
