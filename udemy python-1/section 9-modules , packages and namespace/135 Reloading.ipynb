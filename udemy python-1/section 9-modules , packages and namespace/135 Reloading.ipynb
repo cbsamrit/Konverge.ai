{
 "cells": [
  {
   "cell_type": "code",
   "execution_count": 58,
   "metadata": {},
   "outputs": [],
   "source": [
    "# def create_module(name,**k):\n",
    "\n",
    "#    f=open(name,\"w\")\n",
    "#    f.write(f\"'''we call {name} module''' \\n\")\n",
    "#    f.write(\"def fun():\\n\")\n",
    "#    for i in k:\n",
    "#       f.write(f\"\\t{i}={k[i]}\\n\")\n",
    "#    f.write('\\tprint(f\"value of a ,b and c is {a} , {b} , {c}\")')\n",
    "#    f.close()    \n",
    "\n",
    "# create_module('module.py',a=1,b=2,c=3)      "
   ]
  },
  {
   "cell_type": "code",
   "execution_count": 110,
   "metadata": {},
   "outputs": [
    {
     "ename": "ImportError",
     "evalue": "module module not in sys.modules",
     "output_type": "error",
     "traceback": [
      "\u001b[1;31m---------------------------------------------------------------------------\u001b[0m",
      "\u001b[1;31mImportError\u001b[0m                               Traceback (most recent call last)",
      "\u001b[1;32mc:\\Users\\chetan\\Desktop\\Python Practice\\section 10-modules , packages and namespace\\135 Reloading.ipynb Cell 2\u001b[0m in \u001b[0;36m<cell line: 4>\u001b[1;34m()\u001b[0m\n\u001b[0;32m      <a href='vscode-notebook-cell:/c%3A/Users/chetan/Desktop/Python%20Practice/section%2010-modules%20%2C%20packages%20and%20namespace/135%20Reloading.ipynb#X11sZmlsZQ%3D%3D?line=1'>2</a>\u001b[0m \u001b[39m# import module\u001b[39;00m\n\u001b[0;32m      <a href='vscode-notebook-cell:/c%3A/Users/chetan/Desktop/Python%20Practice/section%2010-modules%20%2C%20packages%20and%20namespace/135%20Reloading.ipynb#X11sZmlsZQ%3D%3D?line=2'>3</a>\u001b[0m \u001b[39mimport\u001b[39;00m \u001b[39mimportlib\u001b[39;00m\n\u001b[1;32m----> <a href='vscode-notebook-cell:/c%3A/Users/chetan/Desktop/Python%20Practice/section%2010-modules%20%2C%20packages%20and%20namespace/135%20Reloading.ipynb#X11sZmlsZQ%3D%3D?line=3'>4</a>\u001b[0m importlib\u001b[39m.\u001b[39;49mreload(module)\n\u001b[0;32m      <a href='vscode-notebook-cell:/c%3A/Users/chetan/Desktop/Python%20Practice/section%2010-modules%20%2C%20packages%20and%20namespace/135%20Reloading.ipynb#X11sZmlsZQ%3D%3D?line=4'>5</a>\u001b[0m module\u001b[39m.\u001b[39msolve()\n",
      "File \u001b[1;32mc:\\python\\Python38\\lib\\importlib\\__init__.py:148\u001b[0m, in \u001b[0;36mreload\u001b[1;34m(module)\u001b[0m\n\u001b[0;32m    146\u001b[0m \u001b[39mif\u001b[39;00m sys\u001b[39m.\u001b[39mmodules\u001b[39m.\u001b[39mget(name) \u001b[39mis\u001b[39;00m \u001b[39mnot\u001b[39;00m module:\n\u001b[0;32m    147\u001b[0m     msg \u001b[39m=\u001b[39m \u001b[39m\"\u001b[39m\u001b[39mmodule \u001b[39m\u001b[39m{}\u001b[39;00m\u001b[39m not in sys.modules\u001b[39m\u001b[39m\"\u001b[39m\n\u001b[1;32m--> 148\u001b[0m     \u001b[39mraise\u001b[39;00m \u001b[39mImportError\u001b[39;00m(msg\u001b[39m.\u001b[39mformat(name), name\u001b[39m=\u001b[39mname)\n\u001b[0;32m    149\u001b[0m \u001b[39mif\u001b[39;00m name \u001b[39min\u001b[39;00m _RELOADING:\n\u001b[0;32m    150\u001b[0m     \u001b[39mreturn\u001b[39;00m _RELOADING[name]\n",
      "\u001b[1;31mImportError\u001b[0m: module module not in sys.modules"
     ]
    }
   ],
   "source": [
    "del sys.modules['module']\n",
    "# import module\n",
    "import importlib\n",
    "importlib.reload(module)\n",
    "module.solve()\n"
   ]
  },
  {
   "cell_type": "code",
   "execution_count": 1,
   "metadata": {},
   "outputs": [
    {
     "name": "stdout",
     "output_type": "stream",
     "text": [
      "cmath\n"
     ]
    }
   ],
   "source": [
    "import cmath\n",
    "print(cmath.__name__)\n"
   ]
  },
  {
   "cell_type": "code",
   "execution_count": null,
   "metadata": {},
   "outputs": [],
   "source": []
  }
 ],
 "metadata": {
  "kernelspec": {
   "display_name": "Python 3",
   "language": "python",
   "name": "python3"
  },
  "language_info": {
   "codemirror_mode": {
    "name": "ipython",
    "version": 3
   },
   "file_extension": ".py",
   "mimetype": "text/x-python",
   "name": "python",
   "nbconvert_exporter": "python",
   "pygments_lexer": "ipython3",
   "version": "3.10.4"
  },
  "orig_nbformat": 4
 },
 "nbformat": 4,
 "nbformat_minor": 2
}
