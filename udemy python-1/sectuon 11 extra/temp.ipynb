{
 "cells": [
  {
   "cell_type": "code",
   "execution_count": 2,
   "metadata": {},
   "outputs": [
    {
     "name": "stdout",
     "output_type": "stream",
     "text": [
      "[('a', 1), ('b', 2), ('c', 3), ('d', '&&')]\n"
     ]
    }
   ],
   "source": [
    "from itertools import zip_longest\n",
    "\n",
    "l=['a','b','c','d']\n",
    "m=[1,2,3]\n",
    "\n",
    "print(list(zip_longest(l,m,fillvalue=\"&&\")))\n",
    "\n"
   ]
  },
  {
   "cell_type": "code",
   "execution_count": 3,
   "metadata": {},
   "outputs": [
    {
     "name": "stdout",
     "output_type": "stream",
     "text": [
      "[(1, 'a', 'l'), (2, 'b', 'm'), (3, 'c', 'n')]\n"
     ]
    }
   ],
   "source": [
    "l=[(1,2,3),(\"a\",\"b\",\"c\"),(\"l\",\"m\",\"n\")]\n",
    "\n",
    "print(list(zip(*l)))"
   ]
  },
  {
   "cell_type": "code",
   "execution_count": 14,
   "metadata": {},
   "outputs": [
    {
     "name": "stdout",
     "output_type": "stream",
     "text": [
      "64\n",
      "9\n"
     ]
    }
   ],
   "source": [
    "import random\n",
    "\n",
    "print(random.choice(range(100)))\n",
    "print(random.randint(0,10))"
   ]
  },
  {
   "cell_type": "code",
   "execution_count": 16,
   "metadata": {},
   "outputs": [
    {
     "name": "stdout",
     "output_type": "stream",
     "text": [
      "12 0.4655008018764193\n",
      "15 0.8637622321105233\n",
      "12 0.4476804751098189\n",
      "11 0.9241740813082052\n",
      "18 0.03909728484376351\n",
      "14 0.427120846481544\n",
      "15 0.5015683172029292\n",
      "10 0.16179821840240372\n",
      "19 0.5456562261077654\n",
      "16 0.5920340391804174\n"
     ]
    }
   ],
   "source": [
    "import random\n",
    "\n",
    "for _ in range(10):\n",
    "\n",
    "    print(random.randint(10,20),random.random())\n"
   ]
  },
  {
   "cell_type": "code",
   "execution_count": 24,
   "metadata": {},
   "outputs": [
    {
     "name": "stdout",
     "output_type": "stream",
     "text": [
      "49\n"
     ]
    }
   ],
   "source": [
    "print(random.choice(range(200)))\n"
   ]
  },
  {
   "cell_type": "code",
   "execution_count": 25,
   "metadata": {},
   "outputs": [
    {
     "name": "stdout",
     "output_type": "stream",
     "text": [
      "19 0.5988670035560543\n",
      "14 0.18148578860959053\n",
      "6 0.7642216114474931\n",
      "6 0.29796319248403924\n",
      "19 0.1108417574236672\n",
      "12 0.4341150627839303\n",
      "6 0.004251024954063931\n",
      "5 0.07246499531212036\n",
      "16 0.41691891077606147\n",
      "13 0.2963585823882985\n",
      "19 0.01740127272448544\n",
      "1 0.4608691734520254\n",
      "9 0.6934022632977005\n",
      "4 0.8863960087782442\n",
      "6 0.01108963933899676\n",
      "5 0.7100584205262775\n",
      "3 0.13634908754012343\n",
      "13 0.9714584074800703\n",
      "13 0.8472401403548636\n",
      "7 0.5327290113563394\n"
     ]
    }
   ],
   "source": [
    "import random\n",
    "\n",
    "for _ in range(20):\n",
    "   \n",
    "   print(random.randint(1,20),random.random())\n",
    "    "
   ]
  },
  {
   "cell_type": "code",
   "execution_count": 26,
   "metadata": {},
   "outputs": [
    {
     "name": "stdout",
     "output_type": "stream",
     "text": [
      "11 0.18824848292853025\n",
      "19 0.23481809573733026\n",
      "13 0.5174180273734291\n",
      "14 0.09962031467377908\n",
      "17 0.5106519863245027\n",
      "7 0.00288823615324163\n",
      "8 0.35252861609679775\n",
      "5 0.6989164672276335\n",
      "7 0.45600779701869887\n",
      "7 0.5868986663884229\n",
      "8 0.12603602083786558\n",
      "4 0.7042457214663486\n",
      "10 0.46913020337465394\n",
      "16 0.19929136562608452\n",
      "17 0.6549269785096691\n",
      "15 0.8590948399680141\n",
      "15 0.5919599542372797\n",
      "8 0.6742221789368366\n",
      "10 0.9330951444594865\n",
      "14 0.4226568615203288\n"
     ]
    }
   ],
   "source": [
    "\n",
    "for _ in range(20):\n",
    "   \n",
    "   print(random.randint(1,20),random.random())"
   ]
  },
  {
   "cell_type": "code",
   "execution_count": 29,
   "metadata": {},
   "outputs": [
    {
     "name": "stdout",
     "output_type": "stream",
     "text": [
      "19 0.032585065282054626\n",
      "16 0.5780913011344704\n",
      "7 0.46258050809294915\n",
      "16 0.8235888725334455\n",
      "6 0.034403573875645965\n",
      "16 0.32777281162209315\n",
      "8 0.9523992311419316\n",
      "12 0.04455638245043303\n",
      "5 0.603190610968185\n",
      "13 0.4212639948995278\n",
      "9 0.45683115105830563\n",
      "10 0.6618463200523511\n",
      "5 0.4569284228074387\n",
      "8 0.9693881604049188\n",
      "20 0.3752429935653554\n",
      "19 0.004055144158407464\n",
      "5 0.19495330706985492\n",
      "10 0.5363451642255902\n",
      "8 0.31436380495645067\n",
      "18 0.450623001426689\n"
     ]
    }
   ],
   "source": [
    "random.seed(10)\n",
    "\n",
    "for _ in range(20):\n",
    "   \n",
    "   print(random.randint(1,20),random.random())"
   ]
  },
  {
   "cell_type": "code",
   "execution_count": 30,
   "metadata": {},
   "outputs": [
    {
     "name": "stdout",
     "output_type": "stream",
     "text": [
      "19 0.032585065282054626\n",
      "16 0.5780913011344704\n",
      "7 0.46258050809294915\n",
      "16 0.8235888725334455\n",
      "6 0.034403573875645965\n",
      "16 0.32777281162209315\n",
      "8 0.9523992311419316\n",
      "12 0.04455638245043303\n",
      "5 0.603190610968185\n",
      "13 0.4212639948995278\n",
      "9 0.45683115105830563\n",
      "10 0.6618463200523511\n",
      "5 0.4569284228074387\n",
      "8 0.9693881604049188\n",
      "20 0.3752429935653554\n",
      "19 0.004055144158407464\n",
      "5 0.19495330706985492\n",
      "10 0.5363451642255902\n",
      "8 0.31436380495645067\n",
      "18 0.450623001426689\n"
     ]
    }
   ],
   "source": [
    "random.seed(10)\n",
    "\n",
    "for _ in range(20):\n",
    "   \n",
    "   print(random.randint(1,20),random.random())"
   ]
  },
  {
   "cell_type": "code",
   "execution_count": 33,
   "metadata": {},
   "outputs": [
    {
     "name": "stdout",
     "output_type": "stream",
     "text": [
      "[3, 5, 4, 1, 2]\n",
      "4\n",
      "2\n"
     ]
    }
   ],
   "source": [
    "l=[1,2,3,4,5]\n",
    "random.shuffle(l)\n",
    "print(l)\n",
    "print(random.randint(0,10))\n",
    "print(random.choice(l))\n",
    "\n"
   ]
  },
  {
   "cell_type": "code",
   "execution_count": 38,
   "metadata": {},
   "outputs": [],
   "source": [
    "import random\n",
    "def solve(s):\n",
    "\n",
    "    random.seed(s)\n",
    "    l=[]\n",
    "   \n",
    "    for _ in range(0,3):\n",
    "         l.append(random.randint(0,10))\n",
    "    for _ in range(0,3):\n",
    "         l.append(random.choice(range(10,15))) \n",
    "\n",
    "    temp=[1,2,3,4] \n",
    "    random.shuffle(temp)\n",
    "    l.append(temp)\n",
    "\n",
    "    print(l)\n"
   ]
  },
  {
   "cell_type": "code",
   "execution_count": 39,
   "metadata": {},
   "outputs": [
    {
     "name": "stdout",
     "output_type": "stream",
     "text": [
      "[0, 1, 1, 12, 11, 12, [2, 1, 4, 3]]\n"
     ]
    }
   ],
   "source": [
    "solve(2)"
   ]
  },
  {
   "cell_type": "code",
   "execution_count": 40,
   "metadata": {},
   "outputs": [
    {
     "name": "stdout",
     "output_type": "stream",
     "text": [
      "[0, 1, 1, 12, 11, 12, [2, 1, 4, 3]]\n"
     ]
    }
   ],
   "source": [
    "solve(2)"
   ]
  },
  {
   "cell_type": "code",
   "execution_count": 41,
   "metadata": {},
   "outputs": [
    {
     "name": "stdout",
     "output_type": "stream",
     "text": [
      "[3, 9, 8, 11, 12, 14, [2, 1, 3, 4]]\n"
     ]
    }
   ],
   "source": [
    "solve(3)"
   ]
  },
  {
   "cell_type": "code",
   "execution_count": 42,
   "metadata": {},
   "outputs": [
    {
     "name": "stdout",
     "output_type": "stream",
     "text": [
      "[3, 9, 8, 11, 12, 14, [2, 1, 3, 4]]\n"
     ]
    }
   ],
   "source": [
    "solve(3)"
   ]
  },
  {
   "cell_type": "code",
   "execution_count": 46,
   "metadata": {},
   "outputs": [
    {
     "name": "stdout",
     "output_type": "stream",
     "text": [
      "[1, 2, 3, 4, 5, 6, 7, 8, 9]\n"
     ]
    }
   ],
   "source": [
    "print(list(range(1,10)))"
   ]
  },
  {
   "cell_type": "code",
   "execution_count": 49,
   "metadata": {},
   "outputs": [
    {
     "name": "stdout",
     "output_type": "stream",
     "text": [
      "{1: 6, 2: 6, 3: 7, 4: 9, 5: 3, 6: 3, 7: 2, 8: 4, 9: 3, 10: 3, 11: 7, 12: 5, 13: 7, 14: 6, 15: 3, 16: 5, 17: 6, 18: 5, 19: 8, 20: 2}\n"
     ]
    }
   ],
   "source": [
    "def frq_count(l):\n",
    "     \n",
    "\n",
    "     d={ i : 0 for i in range(1,21)}\n",
    "\n",
    "     for i in l:\n",
    "        d[i]=d[i]+1\n",
    "     \n",
    "     d={ i : d[i] for i in d if d[i]!=0} \n",
    "\n",
    "     print(d)          \n",
    "\n",
    "l=[random.randint(1,20) for _ in range(100)]\n",
    "\n",
    "\n",
    "frq_count(l)"
   ]
  },
  {
   "cell_type": "code",
   "execution_count": 51,
   "metadata": {},
   "outputs": [
    {
     "name": "stdout",
     "output_type": "stream",
     "text": [
      "{1: 6, 2: 6, 3: 7, 4: 9, 5: 3, 6: 3, 7: 2, 8: 4, 9: 3, 10: 3, 11: 7, 12: 5, 13: 7, 14: 6, 15: 3, 16: 5, 17: 6, 18: 5, 19: 8, 20: 2}\n"
     ]
    }
   ],
   "source": [
    "frq_count(l)"
   ]
  },
  {
   "cell_type": "code",
   "execution_count": 52,
   "metadata": {},
   "outputs": [
    {
     "name": "stdout",
     "output_type": "stream",
     "text": [
      "{1: 6, 2: 6, 3: 7, 4: 9, 5: 3, 6: 3, 7: 2, 8: 4, 9: 3, 10: 3, 11: 7, 12: 5, 13: 7, 14: 6, 15: 3, 16: 5, 17: 6, 18: 5, 19: 8, 20: 2}\n"
     ]
    }
   ],
   "source": [
    "frq_count(l)"
   ]
  },
  {
   "cell_type": "code",
   "execution_count": 12,
   "metadata": {},
   "outputs": [
    {
     "name": "stdout",
     "output_type": "stream",
     "text": [
      "67\n",
      "67\n",
      "9\n",
      "20\n",
      "8\n",
      "10\n",
      "7\n",
      "2\n",
      "8\n",
      "2\n"
     ]
    }
   ],
   "source": [
    "import random \n",
    "l=[7,8,9,20,10,45,67,2]\n",
    "for i in range(10) :\n",
    "   k=random.randint(0,len(l))\n",
    "   print(l[k])\n"
   ]
  },
  {
   "cell_type": "code",
   "execution_count": 13,
   "metadata": {},
   "outputs": [
    {
     "name": "stdout",
     "output_type": "stream",
     "text": [
      "67\n",
      "9\n",
      "20\n",
      "8\n",
      "8\n",
      "9\n",
      "9\n",
      "9\n",
      "45\n",
      "45\n"
     ]
    }
   ],
   "source": [
    "for i in range(10):\n",
    "    k=random.choice(range(0,len(l)))\n",
    "    print(l[k])\n",
    "\n",
    "    "
   ]
  },
  {
   "cell_type": "code",
   "execution_count": 17,
   "metadata": {},
   "outputs": [
    {
     "name": "stdout",
     "output_type": "stream",
     "text": [
      "5\n",
      "0\n",
      "0\n",
      "4\n",
      "0\n",
      "2\n",
      "5\n",
      "6\n",
      "2\n",
      "3\n"
     ]
    }
   ],
   "source": [
    "for i in range(10) :\n",
    "\n",
    "    k=random.randrange(len(l))\n",
    "    print(k)"
   ]
  },
  {
   "cell_type": "code",
   "execution_count": 20,
   "metadata": {},
   "outputs": [
    {
     "name": "stdout",
     "output_type": "stream",
     "text": [
      "9\n",
      "10\n",
      "9\n",
      "8\n",
      "10\n",
      "9\n",
      "10\n",
      "8\n",
      "8\n",
      "45\n"
     ]
    }
   ],
   "source": [
    "# random.seed(0)\n",
    "for _ in range (10):\n",
    "\n",
    "    print(l[random.randrange(len(l))])"
   ]
  },
  {
   "cell_type": "code",
   "execution_count": 21,
   "metadata": {},
   "outputs": [
    {
     "name": "stdout",
     "output_type": "stream",
     "text": [
      "2\n",
      "8\n",
      "45\n",
      "67\n",
      "45\n",
      "20\n",
      "2\n",
      "2\n",
      "10\n",
      "7\n"
     ]
    }
   ],
   "source": [
    "# random.seed(0)\n",
    "for _ in range (10):\n",
    "\n",
    "    print(l[random.randrange(len(l))])"
   ]
  },
  {
   "cell_type": "code",
   "execution_count": 22,
   "metadata": {},
   "outputs": [],
   "source": [
    "l=list(range(100))\n",
    "\n"
   ]
  },
  {
   "cell_type": "code",
   "execution_count": 28,
   "metadata": {},
   "outputs": [
    {
     "name": "stdout",
     "output_type": "stream",
     "text": [
      "[84, 75, 42, 25]\n",
      "[51, 40, 78, 30]\n",
      "[47, 58, 90, 50]\n",
      "[28, 75, 61, 25]\n",
      "[90, 98, 81, 90]\n",
      "[31, 72, 89, 68]\n",
      "[47, 10, 43, 61]\n",
      "[91, 96, 47, 86]\n",
      "[26, 80, 54, 1]\n",
      "[71, 39, 82, 66]\n"
     ]
    }
   ],
   "source": [
    "random.seed(0)\n",
    "for _ in range(10):\n",
    "    print(random.choices(l,k=4))\n",
    "\n"
   ]
  },
  {
   "cell_type": "code",
   "execution_count": 30,
   "metadata": {},
   "outputs": [
    {
     "name": "stdout",
     "output_type": "stream",
     "text": [
      "[84, 75, 42, 25]\n",
      "[51, 40, 78, 30]\n",
      "[47, 58, 90, 50]\n",
      "[28, 75, 61, 25]\n",
      "[90, 98, 81, 90]\n",
      "[31, 72, 89, 68]\n",
      "[47, 10, 43, 61]\n",
      "[91, 96, 47, 86]\n",
      "[26, 80, 54, 1]\n",
      "[71, 39, 82, 66]\n"
     ]
    }
   ],
   "source": [
    "random.seed(0)\n",
    "for _ in range(10) :\n",
    "    print(random.choices(l,k=4))"
   ]
  },
  {
   "cell_type": "code",
   "execution_count": 1,
   "metadata": {},
   "outputs": [
    {
     "ename": "NameError",
     "evalue": "name 'math' is not defined",
     "output_type": "error",
     "traceback": [
      "\u001b[1;31m---------------------------------------------------------------------------\u001b[0m",
      "\u001b[1;31mNameError\u001b[0m                                 Traceback (most recent call last)",
      "\u001b[1;32mc:\\Users\\chetan\\Desktop\\Python Practice\\sectuon 11 extra\\temp.ipynb Cell 28\u001b[0m in \u001b[0;36m<cell line: 2>\u001b[1;34m()\u001b[0m\n\u001b[0;32m      <a href='vscode-notebook-cell:/c%3A/Users/chetan/Desktop/Python%20Practice/sectuon%2011%20extra/temp.ipynb#X36sZmlsZQ%3D%3D?line=0'>1</a>\u001b[0m \u001b[39mfrom\u001b[39;00m \u001b[39mtimeit\u001b[39;00m \u001b[39mimport\u001b[39;00m timeit\n\u001b[1;32m----> <a href='vscode-notebook-cell:/c%3A/Users/chetan/Desktop/Python%20Practice/sectuon%2011%20extra/temp.ipynb#X36sZmlsZQ%3D%3D?line=1'>2</a>\u001b[0m \u001b[39mprint\u001b[39m(timeit(stmt\u001b[39m=\u001b[39;49m\u001b[39m\"\u001b[39;49m\u001b[39mmath.sqrt(2)\u001b[39;49m\u001b[39m\"\u001b[39;49m))\n",
      "File \u001b[1;32mc:\\python\\Python38\\lib\\timeit.py:234\u001b[0m, in \u001b[0;36mtimeit\u001b[1;34m(stmt, setup, timer, number, globals)\u001b[0m\n\u001b[0;32m    231\u001b[0m \u001b[39mdef\u001b[39;00m \u001b[39mtimeit\u001b[39m(stmt\u001b[39m=\u001b[39m\u001b[39m\"\u001b[39m\u001b[39mpass\u001b[39m\u001b[39m\"\u001b[39m, setup\u001b[39m=\u001b[39m\u001b[39m\"\u001b[39m\u001b[39mpass\u001b[39m\u001b[39m\"\u001b[39m, timer\u001b[39m=\u001b[39mdefault_timer,\n\u001b[0;32m    232\u001b[0m            number\u001b[39m=\u001b[39mdefault_number, \u001b[39mglobals\u001b[39m\u001b[39m=\u001b[39m\u001b[39mNone\u001b[39;00m):\n\u001b[0;32m    233\u001b[0m     \u001b[39m\"\"\"Convenience function to create Timer object and call timeit method.\"\"\"\u001b[39;00m\n\u001b[1;32m--> 234\u001b[0m     \u001b[39mreturn\u001b[39;00m Timer(stmt, setup, timer, \u001b[39mglobals\u001b[39;49m)\u001b[39m.\u001b[39;49mtimeit(number)\n",
      "File \u001b[1;32mc:\\python\\Python38\\lib\\timeit.py:178\u001b[0m, in \u001b[0;36mTimer.timeit\u001b[1;34m(self, number)\u001b[0m\n\u001b[0;32m    176\u001b[0m gc\u001b[39m.\u001b[39mdisable()\n\u001b[0;32m    177\u001b[0m \u001b[39mtry\u001b[39;00m:\n\u001b[1;32m--> 178\u001b[0m     timing \u001b[39m=\u001b[39m \u001b[39mself\u001b[39;49m\u001b[39m.\u001b[39;49minner(it, \u001b[39mself\u001b[39;49m\u001b[39m.\u001b[39;49mtimer)\n\u001b[0;32m    179\u001b[0m \u001b[39mfinally\u001b[39;00m:\n\u001b[0;32m    180\u001b[0m     \u001b[39mif\u001b[39;00m gcold:\n",
      "File \u001b[1;32m<timeit-src>:6\u001b[0m, in \u001b[0;36minner\u001b[1;34m(_it, _timer)\u001b[0m\n",
      "\u001b[1;31mNameError\u001b[0m: name 'math' is not defined"
     ]
    }
   ],
   "source": [
    "from timeit import timeit\n",
    "print(timeit(stmt=\"math.sqrt(2)\"))"
   ]
  },
  {
   "cell_type": "code",
   "execution_count": 3,
   "metadata": {},
   "outputs": [
    {
     "name": "stdout",
     "output_type": "stream",
     "text": [
      "0.28826279999998405\n"
     ]
    }
   ],
   "source": [
    "print(timeit(stmt=\"import math\\nmath.sqrt(2)\"))\n",
    "\n"
   ]
  },
  {
   "cell_type": "code",
   "execution_count": 4,
   "metadata": {},
   "outputs": [
    {
     "name": "stdout",
     "output_type": "stream",
     "text": [
      "0.14013199999999415\n"
     ]
    }
   ],
   "source": [
    "print(timeit(stmt=\"math.sqrt(2)\",setup=\"import math\"))\n"
   ]
  },
  {
   "cell_type": "code",
   "execution_count": 5,
   "metadata": {},
   "outputs": [],
   "source": [
    "def solve(c=None) :\n",
    "\n",
    "    if c is not None :\n",
    "        print(\"arg is pass\")\n",
    "    else :\n",
    "        print(\"arg is not pass\") \n",
    "           "
   ]
  },
  {
   "cell_type": "code",
   "execution_count": 7,
   "metadata": {},
   "outputs": [
    {
     "name": "stdout",
     "output_type": "stream",
     "text": [
      "arg is not pass\n"
     ]
    }
   ],
   "source": [
    "solve()"
   ]
  },
  {
   "cell_type": "code",
   "execution_count": 10,
   "metadata": {},
   "outputs": [],
   "source": [
    "l= object()\n",
    "\n",
    "def solve(c=l) :\n",
    "\n",
    "    if c is not l :\n",
    "        print(\"arg is pass\")\n",
    "    else :\n",
    "        print(\"arg is not pass\")\n"
   ]
  },
  {
   "cell_type": "code",
   "execution_count": 11,
   "metadata": {},
   "outputs": [
    {
     "name": "stdout",
     "output_type": "stream",
     "text": [
      "arg is pass\n"
     ]
    }
   ],
   "source": [
    "solve(None)"
   ]
  },
  {
   "cell_type": "code",
   "execution_count": 12,
   "metadata": {},
   "outputs": [
    {
     "name": "stdout",
     "output_type": "stream",
     "text": [
      "arg is pass\n"
     ]
    }
   ],
   "source": [
    "solve(3)"
   ]
  },
  {
   "cell_type": "code",
   "execution_count": 13,
   "metadata": {},
   "outputs": [
    {
     "name": "stdout",
     "output_type": "stream",
     "text": [
      "arg is not pass\n"
     ]
    }
   ],
   "source": [
    "solve()"
   ]
  }
 ],
 "metadata": {
  "kernelspec": {
   "display_name": "Python 3",
   "language": "python",
   "name": "python3"
  },
  "language_info": {
   "codemirror_mode": {
    "name": "ipython",
    "version": 3
   },
   "file_extension": ".py",
   "mimetype": "text/x-python",
   "name": "python",
   "nbconvert_exporter": "python",
   "pygments_lexer": "ipython3",
   "version": "3.10.4"
  },
  "orig_nbformat": 4
 },
 "nbformat": 4,
 "nbformat_minor": 2
}
