{
 "cells": [
  {
   "cell_type": "code",
   "execution_count": 3,
   "metadata": {},
   "outputs": [
    {
     "name": "stdout",
     "output_type": "stream",
     "text": [
      "Hum cofee !!\n"
     ]
    }
   ],
   "source": [
    "def respond(lan):\n",
    "\n",
    "    match lan:\n",
    "       case \"java\" | \"go\":\n",
    "            return \"Hum cofee !!\"\n",
    "       case \"Python\":\n",
    "            return \"I am scared of snakes !\"\n",
    "\n",
    "       case \"Rust\":\n",
    "            return \"Collect $200\"\n",
    "\n",
    "\n",
    "print(respond(\"go\"))\n"
   ]
  },
  {
   "cell_type": "code",
   "execution_count": 5,
   "metadata": {},
   "outputs": [
    {
     "name": "stdout",
     "output_type": "stream",
     "text": [
      "your option is\n",
      "1=>move left\n",
      "\n",
      "2=>move right\n",
      "\n",
      "3=>top\n",
      "\n",
      "4=>down\n",
      "\n",
      "5=>drop\n",
      "\n",
      "my option is :move left\n"
     ]
    }
   ],
   "source": [
    "def solve(command):\n",
    "\n",
    "    match command :\n",
    "        \n",
    "        case \"l\" :\n",
    "            return \"move left\"\n",
    "        case \"r\" :\n",
    "            return \"move right\"\n",
    "        case \"t\" :\n",
    "            return \"move top\" \n",
    "        case \"d\" :\n",
    "            return \"move down\"\n",
    "        case \"p\" :\n",
    "            return \"pick object\"\n",
    "        case \"d\" :\n",
    "            return \"drop object\"\n",
    "        \n",
    "\n",
    "l={1:\"move left\",2:\"move right\",3:\"top\",4:\"down\",5:\"pick\",5:\"drop\"}\n",
    "print(\"your option is\")\n",
    "for i in l :\n",
    "    print(f\"{i}=>{l[i]}\\n\")\n",
    "print(\"my option is\",end=\" :\")    \n",
    "i=input()\n",
    "print(solve(i))    \n",
    "\n"
   ]
  },
  {
   "cell_type": "code",
   "execution_count": 8,
   "metadata": {},
   "outputs": [
    {
     "name": "stdout",
     "output_type": "stream",
     "text": [
      "dr\n",
      "<class 'str'>\n",
      "drop object\n",
      "['move', 'sm']\n",
      "<class 'list'>\n",
      "None\n"
     ]
    }
   ],
   "source": [
    "def solve(command):\n",
    "    \n",
    "    print(command)\n",
    "    print(type(command))\n",
    "    match command :\n",
    "        case ['move' , ('l' | 'd' | 'r') as dir ] :\n",
    "               return f\"move {dir}\"\n",
    "         \n",
    "        case \"dr\":\n",
    "              return \"drop object\"\n",
    "         \n",
    "        case  \"p\":\n",
    "              return \"pick object\"  \n",
    "    \n",
    "\n",
    "print(solve(\"dr\"))\n",
    "\n",
    "print(solve(['move','sm']))\n",
    "\n",
    "\n",
    "\n",
    "\n"
   ]
  }
 ],
 "metadata": {
  "kernelspec": {
   "display_name": "Python 3",
   "language": "python",
   "name": "python3"
  },
  "language_info": {
   "codemirror_mode": {
    "name": "ipython",
    "version": 3
   },
   "file_extension": ".py",
   "mimetype": "text/x-python",
   "name": "python",
   "nbconvert_exporter": "python",
   "pygments_lexer": "ipython3",
   "version": "3.10.4"
  },
  "orig_nbformat": 4
 },
 "nbformat": 4,
 "nbformat_minor": 2
}
